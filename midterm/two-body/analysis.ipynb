{
 "cells": [
  {
   "cell_type": "markdown",
   "metadata": {},
   "source": [
    "# Two-body problem module: Analysis notebook"
   ]
  },
  {
   "cell_type": "markdown",
   "metadata": {},
   "source": [
    "### Directory structure"
   ]
  },
  {
   "cell_type": "markdown",
   "metadata": {},
   "source": [
    "#### `README.md` contents\n",
    "---\n",
    "Basic usage: \n",
    "\n",
    "```sh\n",
    "python orbits.py CellestialSeer --save_hdf5\n",
    "```\n",
    "\n",
    "To show the evolution:\n",
    "\n",
    "```sh\n",
    "python orbits.py CellestialSeer \\\n",
    "  --save_hdf5 \\\n",
    "  --gif_name \"orbit.gif\" \\\n",
    "  --frames 100 \\\n",
    "```\n",
    "\n",
    "Full options:\n",
    "\n",
    "```sh\n",
    "python orbits.py CellestialSeer \\\n",
    "  --save_hdf5 \\\n",
    "  --gif_name \"orbit.gif\" \\\n",
    "  --frames 100 \\\n",
    "```\n",
    "\n",
    "---"
   ]
  },
  {
   "cell_type": "markdown",
   "metadata": {},
   "source": [
    "```bash\n",
    "celestia/\n",
    "├── README.md\n",
    "```\n",
    "\n",
    "just files or classes and functions too?"
   ]
  },
  {
   "cell_type": "markdown",
   "metadata": {},
   "source": [
    "### Relativistic vs. classical mechanics"
   ]
  },
  {
   "cell_type": "markdown",
   "metadata": {},
   "source": [
    "##### (i) Use your module/script to run and show two simulations: one relativistic and one classical for this set of initial conditions. It may be helpful to compare the orbital history in a single plot.\n",
    "\n",
    "| Parameter | Description                                       | Units      |\n",
    "|-----------|---------------------------------------------------|------------|\n",
    "| $e$       | Eccentricity of the orbit                         | $0$        |\n",
    "| $M$       | Mass of the central black hole                    | $5\\times 10^6\\,\\rm M_\\odot$ |\n",
    "| $a$       | Semi-major axis of the orbit                      | $1\\,\\rm AU$|\n",
    "| $N$       | Number of orbital periods to simulate             | $2$        |\n",
    "| Method    | Numerical method for ODE integration              | RK3        |"
   ]
  },
  {
   "cell_type": "code",
   "execution_count": 1,
   "metadata": {},
   "outputs": [],
   "source": [
    "# Module import\n",
    "from orbits import CelestialSeer, ChronoPainter\n",
    "\n",
    "import numpy as np\n",
    "import matplotlib.pyplot as plt"
   ]
  },
  {
   "cell_type": "code",
   "execution_count": 2,
   "metadata": {},
   "outputs": [],
   "source": [
    "# Set parameters\n",
    "M = 5e6 # Solar masses\n",
    "a = 1.0 # AU\n",
    "e = 0.0\n",
    "N = 2.0"
   ]
  },
  {
   "cell_type": "code",
   "execution_count": 3,
   "metadata": {},
   "outputs": [],
   "source": [
    "# Instantiate the integrator\n",
    "orbital_sys = CelestialSeer(M, a, e)"
   ]
  },
  {
   "cell_type": "code",
   "execution_count": 4,
   "metadata": {},
   "outputs": [
    {
     "name": "stdout",
     "output_type": "stream",
     "text": [
      "Saved to outputfolder/M5.0e+06-a1.0-e0.000-class-RK3.h5\n",
      "Saved to outputfolder/M5.0e+06-a1.0-e0.000-relat-RK3.h5\n"
     ]
    }
   ],
   "source": [
    "# Classical case\n",
    "t_class, S_class, file_class = orbital_sys.integrate(\n",
    "    relativistic = False, \n",
    "    N = N, \n",
    "    method = 'RK3', \n",
    "    save_hdf5 = True) \n",
    "\n",
    "# Relativistic case\n",
    "t_relat, S_relat, file_relat = orbital_sys.integrate(\n",
    "    relativistic = True, \n",
    "    N = N, \n",
    "    method = 'RK3', \n",
    "    save_hdf5 = True)"
   ]
  },
  {
   "cell_type": "code",
   "execution_count": 5,
   "metadata": {},
   "outputs": [],
   "source": [
    "# Create instance of the painter\n",
    "painter = ChronoPainter(\n",
    "    orbits = (file_class, file_relat),\n",
    "    labels = ('Classical', 'Relativistic'),\n",
    "    colors = ('khaki', 'magenta')\n",
    "    )"
   ]
  },
  {
   "cell_type": "code",
   "execution_count": 6,
   "metadata": {},
   "outputs": [],
   "source": [
    "# # Animate\n",
    "# painter.paint(\n",
    "#     gif_name = \"rel-vs-class.gif\",\n",
    "#     frames = 75,\n",
    "#     duration = 0.5,\n",
    "#     dpi = 100\n",
    "# )"
   ]
  },
  {
   "cell_type": "code",
   "execution_count": 7,
   "metadata": {},
   "outputs": [],
   "source": [
    "# Show it\n",
    "# painter.show_evolution(\"rel-vs-class.gif\")"
   ]
  },
  {
   "cell_type": "markdown",
   "metadata": {},
   "source": [
    "to ellaborate on: no precession"
   ]
  },
  {
   "cell_type": "markdown",
   "metadata": {},
   "source": [
    "##### (j) Use the orbital history of both simulations to design a method that quantifies their differences and evaluates the importance of using the relativistic approach for massive objects. Do we need to worry about the relativistic corrections if we replace the black hole with our Sun?\n"
   ]
  },
  {
   "cell_type": "markdown",
   "metadata": {},
   "source": [
    "We will see how much the positions and velocities differ *on average* over the entire time evolution. "
   ]
  },
  {
   "cell_type": "code",
   "execution_count": 32,
   "metadata": {},
   "outputs": [],
   "source": [
    "def mean_euclidean(s1, s2):\n",
    "    \"\"\"\n",
    "    Calculate the mean Euclidean distance between two sets of positions.\n",
    "    \"\"\"\n",
    "    # Extract positions and velocities\n",
    "    pos1 = s1[0:2, :]\n",
    "    pos2 = s2[0:2, :]\n",
    "    vel1 = s1[2:4, :]\n",
    "    vel2 = s2[2:4, :]\n",
    "\n",
    "    # Magnitude of velocities\n",
    "    v1_mag = np.linalg.norm(vel1, axis = 0) \n",
    "    v2_mag = np.linalg.norm(vel2, axis = 0)\n",
    "\n",
    "    # Calculate the mean distance and velocity\n",
    "    mean_distance = np.mean(np.linalg.norm(pos1 - pos2, axis = 0)) # AU\n",
    "    mean_velocity = np.mean(np.abs(v1_mag - v2_mag))               # AU/yr\n",
    "\n",
    "    return mean_distance, mean_velocity"
   ]
  },
  {
   "cell_type": "code",
   "execution_count": 25,
   "metadata": {},
   "outputs": [
    {
     "name": "stdout",
     "output_type": "stream",
     "text": [
      "Mean distance: 1.2848 AU\n",
      "Mean velocity: 2479.9939 AU/yr\n"
     ]
    }
   ],
   "source": [
    "# Calculate the mean Euclidean distance\n",
    "mean_distance, mean_velocity = mean_euclidean(S_class, S_relat)\n",
    "print(f\"Mean distance: {mean_distance:.4f} AU\")\n",
    "print(f\"Mean velocity: {mean_velocity:.4f} AU/yr\")"
   ]
  },
  {
   "cell_type": "code",
   "execution_count": 8,
   "metadata": {},
   "outputs": [],
   "source": [
    "# Sun\n",
    "M_sun = 1 # Solar masses\n",
    "\n",
    "# Create another instance\n",
    "integrator2 = CelestialSeer(M_sun, a, e)"
   ]
  },
  {
   "cell_type": "code",
   "execution_count": 9,
   "metadata": {},
   "outputs": [
    {
     "name": "stdout",
     "output_type": "stream",
     "text": [
      "Saved to outputfolder/M1.0e+00-a1.0-e0.000-class-RK3.h5.\n",
      "Saved to outputfolder/M1.0e+00-a1.0-e0.000-relat-RK3.h5.\n"
     ]
    }
   ],
   "source": [
    "# Classical case\n",
    "t_class2, S_class2, file_class_sun = integrator2.integrate(\n",
    "    relativistic = False, \n",
    "    N = N, \n",
    "    method = 'RK3', \n",
    "    save_hdf5 = True)\n",
    "\n",
    "# Relativistic case\n",
    "t_relat2, S_relat2, file_relat_sun = integrator2.integrate(\n",
    "    relativistic = True, \n",
    "    N = N, \n",
    "    method = 'RK3', \n",
    "    save_hdf5 = True)"
   ]
  },
  {
   "cell_type": "code",
   "execution_count": 10,
   "metadata": {},
   "outputs": [],
   "source": [
    "# Create another instance\n",
    "painter2 = ChronoPainter(\n",
    "    orbits = (file_class_sun, file_relat_sun),\n",
    "    labels = ('Classical', 'Relativistic'),\n",
    "    colors = ('khaki', 'magenta')\n",
    "    )"
   ]
  },
  {
   "cell_type": "code",
   "execution_count": null,
   "metadata": {},
   "outputs": [
    {
     "name": "stdout",
     "output_type": "stream",
     "text": [
      "----------------------------------------------------------\n",
      "                  STARTING GIF CREATION\n",
      "----------------------------------------------------------\n",
      "Saving 75 frames...\n",
      "----------------------------------------------------------\n",
      "Progress: 0% (0 images)\n",
      "Progress: 9% (7 images)\n",
      "Progress: 19% (14 images)\n",
      "Progress: 28% (21 images)\n",
      "Progress: 37% (28 images)\n",
      "Progress: 47% (35 images)\n",
      "Progress: 56% (42 images)\n",
      "Progress: 65% (49 images)\n",
      "Progress: 75% (56 images)\n",
      "Progress: 84% (63 images)\n",
      "Progress: 93% (70 images)\n",
      "----------------------------------------------------------\n",
      "All 75 images saved to outputfolder/images.\n",
      "----------------------------------------------------------\n",
      "Saving GIF...\n",
      "----------------------------------------------------------\n",
      "GIF saved to outputfolder/rel-vs-class-sun.gif.\n",
      "----------------------------------------------------------\n",
      "All images have been deleted.\n",
      "----------------------------------------------------------\n",
      "                   END OF GIF CREATION\n",
      "----------------------------------------------------------\n"
     ]
    }
   ],
   "source": [
    "# # Animate\n",
    "# painter2.paint(\n",
    "#     gif_name = \"rel-vs-class-sun.gif\",\n",
    "#     frames = 75,\n",
    "#     duration = 0.5,\n",
    "#     dpi = 100\n",
    "# )"
   ]
  },
  {
   "cell_type": "code",
   "execution_count": 12,
   "metadata": {},
   "outputs": [],
   "source": [
    "# Show it\n",
    "# painter2.show_evolution(\"rel-vs-class-sun.gif\")"
   ]
  },
  {
   "cell_type": "markdown",
   "metadata": {},
   "source": [
    "short answer: no, we do not need to worry when the mass is that of the sun"
   ]
  },
  {
   "cell_type": "markdown",
   "metadata": {},
   "source": [
    "### The role of eccentricity (3 points):"
   ]
  },
  {
   "cell_type": "markdown",
   "metadata": {},
   "source": [
    "##### (k) Use your module/script to run and show three relativistic simulations for objects with different eccentricities, $e$, and assuming the same $M$, $a$, $N$ as above. It may be helpful to compare the orbital history for all values of $e$ in a single plot throughout time.\n",
    "\n",
    "| Object           | Eccentricity ($e$) | Integration Method |\n",
    "|------------------|--------------------|--------------------|\n",
    "| Earth            | 0.01671            | Trapezoidal        |\n",
    "| Pluto            | 0.25               | Trapezoidal        |\n",
    "| 7092 Cadmus      | 0.70               | Trapezoidal        |"
   ]
  },
  {
   "cell_type": "code",
   "execution_count": 13,
   "metadata": {},
   "outputs": [],
   "source": [
    "# Define eccentricities\n",
    "e_earth  = 0.01671\n",
    "e_pluto  = 0.25\n",
    "e_cadmus = 0.70"
   ]
  },
  {
   "cell_type": "code",
   "execution_count": 14,
   "metadata": {},
   "outputs": [
    {
     "name": "stdout",
     "output_type": "stream",
     "text": [
      "Saved to outputfolder/M5.0e+06-a1.0-e0.017-relat-RK3.h5.\n",
      "Saved to outputfolder/M5.0e+06-a1.0-e0.250-relat-RK3.h5.\n",
      "Saved to outputfolder/M5.0e+06-a1.0-e0.700-relat-RK3.h5.\n"
     ]
    }
   ],
   "source": [
    "# Create instances\n",
    "earth_sys  = CelestialSeer(M, a, e_earth)\n",
    "pluto_sys  = CelestialSeer(M, a, e_pluto)\n",
    "cadmus_sys = CelestialSeer(M, a, e_cadmus)\n",
    "\n",
    "# Integrate\n",
    "t_earth, S_earth, file_earth = earth_sys.integrate(\n",
    "    relativistic = True, \n",
    "    N = N, \n",
    "    method = 'RK3', \n",
    "    save_hdf5 = True)\n",
    "\n",
    "t_pluto, S_pluto, file_pluto = pluto_sys.integrate(\n",
    "    relativistic = True, \n",
    "    N = N, \n",
    "    method = 'RK3',\n",
    "    save_hdf5 = True)\n",
    "\n",
    "t_cadmus, S_cadmus, file_cadmus = cadmus_sys.integrate(\n",
    "    relativistic = True, \n",
    "    N = N, \n",
    "    method = 'RK3', \n",
    "    save_hdf5 = True)"
   ]
  },
  {
   "cell_type": "code",
   "execution_count": 15,
   "metadata": {},
   "outputs": [],
   "source": [
    "# Create instance\n",
    "painter3 = ChronoPainter(\n",
    "    orbits = (file_earth, file_pluto, file_cadmus),\n",
    "    labels = ('Earth', 'Pluto', 'Cadmus'),\n",
    "    colors = ('khaki', 'magenta', 'white')\n",
    "    )"
   ]
  },
  {
   "cell_type": "code",
   "execution_count": null,
   "metadata": {},
   "outputs": [
    {
     "name": "stdout",
     "output_type": "stream",
     "text": [
      "----------------------------------------------------------\n",
      "                  STARTING GIF CREATION\n",
      "----------------------------------------------------------\n",
      "Saving 75 frames...\n",
      "----------------------------------------------------------\n",
      "Progress: 0% (0 images)\n",
      "Progress: 9% (7 images)\n",
      "Progress: 19% (14 images)\n",
      "Progress: 28% (21 images)\n",
      "Progress: 37% (28 images)\n",
      "Progress: 47% (35 images)\n",
      "Progress: 56% (42 images)\n",
      "Progress: 65% (49 images)\n",
      "Progress: 75% (56 images)\n",
      "Progress: 84% (63 images)\n",
      "Progress: 93% (70 images)\n",
      "----------------------------------------------------------\n",
      "All 75 images saved to outputfolder/images.\n",
      "----------------------------------------------------------\n",
      "Saving GIF...\n",
      "----------------------------------------------------------\n",
      "GIF saved to outputfolder/diff_eccentricities.gif.\n",
      "----------------------------------------------------------\n",
      "All images have been deleted.\n",
      "----------------------------------------------------------\n",
      "                   END OF GIF CREATION\n",
      "----------------------------------------------------------\n"
     ]
    }
   ],
   "source": [
    "# # Animate\n",
    "# painter3.paint(\n",
    "#     gif_name = \"diff_eccentricities.gif\",\n",
    "#     frames = 75,\n",
    "#     duration = 0.5,\n",
    "#     dpi = 100\n",
    "# )"
   ]
  },
  {
   "cell_type": "code",
   "execution_count": 17,
   "metadata": {},
   "outputs": [],
   "source": [
    "# Show it\n",
    "# painter3.show_evolution(\"diff_eccentricities.gif\")"
   ]
  },
  {
   "cell_type": "markdown",
   "metadata": {},
   "source": [
    "##### (l) Describe the differences in the orbits of the above objects. What happens to objects with high eccentricities?"
   ]
  },
  {
   "cell_type": "markdown",
   "metadata": {},
   "source": [
    "to do"
   ]
  },
  {
   "cell_type": "markdown",
   "metadata": {},
   "source": [
    "### Numerical convergence (3 points):"
   ]
  },
  {
   "cell_type": "markdown",
   "metadata": {},
   "source": [
    "##### (m) Use your script to generate additional simulations with the same initial conditions as before, but only for $e=0.01671$ (Earth's eccentricity) with RK3, the Trapezoidal method and the higher-order SciPy integrator. Compare the orbital history for all methods in a single plot throughout time."
   ]
  },
  {
   "cell_type": "markdown",
   "metadata": {},
   "source": [
    "We are going to use slightly different orbital periods."
   ]
  },
  {
   "cell_type": "code",
   "execution_count": 18,
   "metadata": {},
   "outputs": [
    {
     "name": "stdout",
     "output_type": "stream",
     "text": [
      "Saved to outputfolder/M5.0e+06-a1.0-e0.017-relat-TPZ.h5.\n",
      "Saved to outputfolder/M5.0e+06-a1.0-e0.017-relat-SPY.h5.\n"
     ]
    }
   ],
   "source": [
    "# Integrate\n",
    "t_earth_tpz, S_earth_tpz, file_tpz = earth_sys.integrate(\n",
    "    relativistic = True, \n",
    "    N = 2.01, \n",
    "    method = 'TPZ', \n",
    "    save_hdf5 = True)\n",
    "\n",
    "t_earth_spy, S_earth_spy, file_spy = earth_sys.integrate(\n",
    "    relativistic = True, \n",
    "    N = 2.02, \n",
    "    method = 'SPY', \n",
    "    save_hdf5 = True)"
   ]
  },
  {
   "cell_type": "code",
   "execution_count": 19,
   "metadata": {},
   "outputs": [],
   "source": [
    "# Create instance\n",
    "painter4 = ChronoPainter(\n",
    "    orbits = (file_earth, file_tpz, file_spy),\n",
    "    labels = ('RK3', 'TPZ', 'SPY'),\n",
    "    colors = ('khaki', 'magenta', 'white')\n",
    "    )"
   ]
  },
  {
   "cell_type": "code",
   "execution_count": null,
   "metadata": {},
   "outputs": [
    {
     "name": "stdout",
     "output_type": "stream",
     "text": [
      "----------------------------------------------------------\n",
      "                  STARTING GIF CREATION\n",
      "----------------------------------------------------------\n",
      "Saving 75 frames...\n",
      "----------------------------------------------------------\n",
      "Progress: 0% (0 images)\n",
      "Progress: 9% (7 images)\n",
      "Progress: 19% (14 images)\n",
      "Progress: 28% (21 images)\n",
      "Progress: 37% (28 images)\n",
      "Progress: 47% (35 images)\n",
      "Progress: 56% (42 images)\n",
      "Progress: 65% (49 images)\n",
      "Progress: 75% (56 images)\n",
      "Progress: 84% (63 images)\n",
      "Progress: 93% (70 images)\n",
      "----------------------------------------------------------\n",
      "All 75 images saved to outputfolder/images.\n",
      "----------------------------------------------------------\n",
      "Saving GIF...\n",
      "----------------------------------------------------------\n",
      "GIF saved to outputfolder/diff_methods.gif.\n",
      "----------------------------------------------------------\n",
      "All images have been deleted.\n",
      "----------------------------------------------------------\n",
      "                   END OF GIF CREATION\n",
      "----------------------------------------------------------\n"
     ]
    }
   ],
   "source": [
    "# # Animate\n",
    "# painter4.paint(\n",
    "#     gif_name = \"diff_methods.gif\",\n",
    "#     frames = 75,\n",
    "#     duration = 0.5,\n",
    "#     dpi = 100\n",
    "# )"
   ]
  },
  {
   "cell_type": "code",
   "execution_count": 21,
   "metadata": {},
   "outputs": [],
   "source": [
    "# Show it\n",
    "# painter4.show_evolution(\"diff_methods.gif\")"
   ]
  },
  {
   "cell_type": "markdown",
   "metadata": {},
   "source": [
    "no diff for $N=2$"
   ]
  },
  {
   "cell_type": "markdown",
   "metadata": {},
   "source": [
    "##### (n) Measure convergence of the simulations with RK3 and Trapezoidal method for $e=0.01671$ by integrating at a number of different time steps. To analyse convergence, you need to define some measure for the error with respect to the higher order method, and then plot it against different time steps for both methods. Thus, you may add additional functions for this to your code in **orbits.py**. "
   ]
  },
  {
   "cell_type": "markdown",
   "metadata": {},
   "source": []
  }
 ],
 "metadata": {
  "kernelspec": {
   "display_name": "Python 3",
   "language": "python",
   "name": "python3"
  },
  "language_info": {
   "codemirror_mode": {
    "name": "ipython",
    "version": 3
   },
   "file_extension": ".py",
   "mimetype": "text/x-python",
   "name": "python",
   "nbconvert_exporter": "python",
   "pygments_lexer": "ipython3",
   "version": "3.9.21"
  }
 },
 "nbformat": 4,
 "nbformat_minor": 2
}
