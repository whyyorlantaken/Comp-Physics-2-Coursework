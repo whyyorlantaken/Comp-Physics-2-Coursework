{
 "cells": [
  {
   "cell_type": "markdown",
   "metadata": {},
   "source": [
    "# Two-body problem: Analysis notebook\n",
    "\n",
    "## Name: Males-Araujo Yorlan"
   ]
  },
  {
   "cell_type": "markdown",
   "metadata": {},
   "source": [
    "### Module design\n",
    "\n",
    "We present both the directory and source code structure of **Atramenta**, our package for simulating planet orbits around a black hole."
   ]
  },
  {
   "cell_type": "markdown",
   "metadata": {},
   "source": [
    "#### Directory structure\n",
    "\n",
    "It is outlined as follows:\n",
    "\n",
    "```\n",
    "atramenta/\n",
    "├── atramenta/\n",
    "│   ├── __init__.py\n",
    "│   ├── orbits.py          # Source code\n",
    "│   └── test_orbits.py     # Unit tests\n",
    "│   \n",
    "├── README.md              # Brief usage instructions\n",
    "├── analysis.ipynb         # Comparing and analyzing results\n",
    "│  \n",
    "├── outputfolder/\n",
    "│   ├── *.h5               # Orbital history\n",
    "│   └── *.gif              # Animations\n",
    "│\n",
    "└── setup.py          \n",
    "```\n",
    "\n",
    "#### Code structure (`orbits.py`)\n",
    "\n",
    "The code is organized into three main classes: `OrbitBirther` (initializer), `CelestialSeer` (integrator), and `ChronoPainter` (animator). The first two are responsible for simulating orbits, and the last one is for visualizing them. Not all methods or arguments are shown, only the most relevant ones. \n",
    "\n",
    "```\n",
    "orbits.py\n",
    "├── OrbitBirther\n",
    "│   ├── __init__(M, a, e) \n",
    "│   │        \n",
    "│   ├── initial_conditions()                  # Calculate initial conditions              \n",
    "│   └── schwarzschild_radius()                # and Schwarzschild radius\n",
    "│\n",
    "├── CelestialSeer(OrbitBirther)\n",
    "│   ├── __init__(M, a, e)\n",
    "│   │\n",
    "│   ├── integrate(N, method, relativistic)    # Main integration method \n",
    "│   ├── measure_convergence()                 # Convergence across step sizes\n",
    "│   │\n",
    "│   ├── _classical_slope()\n",
    "│   ├── _relativistic_slope()\n",
    "│   ├── _trapezoidal()\n",
    "│   ├── _rk3()\n",
    "│   ├── _save_solutions()\n",
    "│   └── _schwarzschild_restriction()          # No values smaller than this\n",
    "│\n",
    "├── ChronoPainter\n",
    "│   ├── __init__(orbits)\n",
    "│   │   \n",
    "│   ├── paint()                               # GIF generation\n",
    "│   ├── show_evolution()\n",
    "│   │\n",
    "│   ├── _read(orbital_history)\n",
    "│   ├── _save_sketch()                        # Saves frames\n",
    "│   └── _burn_sketches()                      # Deletes frames once GIF is done\n",
    "│\n",
    "├── Utility functions\n",
    "│   ├── plot_orbit()             \n",
    "│   └── parse_args()                          # Command line arguments\n",
    "│\n",
    "└── Main execution\n",
    "```\n",
    "\n",
    "**Note:** While designing our code, we decided to set only `M`, `a`, and `e` as initializer values in order to use the same object for different *integration configurations*."
   ]
  },
  {
   "cell_type": "markdown",
   "metadata": {},
   "source": [
    "### Relativistic vs. classical mechanics"
   ]
  },
  {
   "cell_type": "markdown",
   "metadata": {},
   "source": [
    "##### (i) Use your module/script to run and show two simulations: one relativistic and one classical for this set of initial conditions. It may be helpful to compare the orbital history in a single plot.\n",
    "\n",
    "| Parameter | Description                                       | Units      |\n",
    "|-----------|---------------------------------------------------|------------|\n",
    "| $e$       | Eccentricity of the orbit                         | $0$        |\n",
    "| $M$       | Mass of the central black hole                    | $5\\times 10^6\\,\\rm M_\\odot$ |\n",
    "| $a$       | Semi-major axis of the orbit                      | $1\\,\\rm AU$|\n",
    "| $N$       | Number of orbital periods to simulate             | $2$        |\n",
    "| Method    | Numerical method for ODE integration              | RK3        |"
   ]
  },
  {
   "cell_type": "code",
   "execution_count": 2,
   "metadata": {},
   "outputs": [],
   "source": [
    "# Our module\n",
    "from atramenta import CelestialSeer, ChronoPainter\n",
    "\n",
    "# Others\n",
    "import numpy as np\n",
    "import matplotlib.pyplot as plt"
   ]
  },
  {
   "cell_type": "code",
   "execution_count": 3,
   "metadata": {},
   "outputs": [],
   "source": [
    "# Set value parameters\n",
    "M = 5e6 # Solar masses\n",
    "a = 1.0 # AU\n",
    "e = 0.0\n",
    "N = 2.0"
   ]
  },
  {
   "cell_type": "code",
   "execution_count": 4,
   "metadata": {},
   "outputs": [],
   "source": [
    "# Create an instance\n",
    "orbit_sys = CelestialSeer(M, a, e)"
   ]
  },
  {
   "cell_type": "code",
   "execution_count": 5,
   "metadata": {},
   "outputs": [
    {
     "name": "stdout",
     "output_type": "stream",
     "text": [
      "Saved to outputfolder/M5.0e+06-a1.0-e0.000-class-RK3.h5.\n",
      "Saved to outputfolder/M5.0e+06-a1.0-e0.000-relat-RK3.h5.\n"
     ]
    }
   ],
   "source": [
    "# Integrate classical eqs\n",
    "t_class, S_class, file_class = orbit_sys.integrate(\n",
    "    relativistic = False, \n",
    "    N = N, \n",
    "    method = 'RK3', \n",
    "    save_hdf5 = True) \n",
    "\n",
    "# and relativistic ones\n",
    "t_relat, S_relat, file_relat = orbit_sys.integrate(\n",
    "    relativistic = True, \n",
    "    N = N, \n",
    "    method = 'RK3', \n",
    "    save_hdf5 = True)"
   ]
  },
  {
   "cell_type": "code",
   "execution_count": 6,
   "metadata": {},
   "outputs": [],
   "source": [
    "# Create instance of the painter\n",
    "painter = ChronoPainter(\n",
    "    orbits = (file_class, file_relat),\n",
    "    labels = ('Classical', 'Relativistic'),\n",
    "    colors = ('khaki', 'magenta')\n",
    "    )"
   ]
  },
  {
   "cell_type": "code",
   "execution_count": 7,
   "metadata": {},
   "outputs": [],
   "source": [
    "# # Animate\n",
    "# painter.paint(\n",
    "#     gif_name = \"rel-vs-class.gif\",\n",
    "#     frames = 75,\n",
    "#     duration = 0.5,\n",
    "#     dpi = 100\n",
    "# )"
   ]
  },
  {
   "cell_type": "code",
   "execution_count": 8,
   "metadata": {},
   "outputs": [],
   "source": [
    "# Show it\n",
    "# painter.show_evolution(\"rel-vs-class.gif\")"
   ]
  },
  {
   "cell_type": "markdown",
   "metadata": {},
   "source": [
    "The relativity-corrected equations make the orbit show *precession*, while the classical does not. The contrast is considerable."
   ]
  },
  {
   "cell_type": "markdown",
   "metadata": {},
   "source": [
    "##### (j) Use the orbital history of both simulations to design a method that quantifies their differences and evaluates the importance of using the relativistic approach for massive objects. Do we need to worry about the relativistic corrections if we replace the black hole with our Sun?\n"
   ]
  },
  {
   "cell_type": "markdown",
   "metadata": {},
   "source": [
    "---\n",
    "**Quantitative analysis**\n",
    "\n",
    "We will see how much the distance with respect to the massive object and velocity differ *on average* over the entire time evolution."
   ]
  },
  {
   "cell_type": "code",
   "execution_count": 9,
   "metadata": {},
   "outputs": [],
   "source": [
    "# Little function\n",
    "def mean_euclidean(s1: np.ndarray, s2: np.ndarray) -> tuple:\n",
    "    \"\"\"\n",
    "    It calculates the mean Euclidean distance and velocity between\n",
    "    two solutions, [x, y, vx, vy] in AU and AU/yr, respectively.\n",
    "\n",
    "    Parameters\n",
    "    ----------\n",
    "    s1 : array\n",
    "        First solution.\n",
    "    s2 : array\n",
    "        Second solution.\n",
    "\n",
    "    Returns\n",
    "    -------\n",
    "    mean_distance : float\n",
    "        Mean distance difference.\n",
    "    mean_velocity : float\n",
    "        Mean velocity difference.\n",
    "    \"\"\"\n",
    "    # Extract positions and velocities\n",
    "    pos1 = s1[0:2, :]\n",
    "    pos2 = s2[0:2, :]\n",
    "    vel1 = s1[2:4, :]\n",
    "    vel2 = s2[2:4, :]\n",
    "\n",
    "    # Magnitude of velocities\n",
    "    v1_mag = np.linalg.norm(vel1, axis = 0) \n",
    "    v2_mag = np.linalg.norm(vel2, axis = 0)\n",
    "\n",
    "    # Calculate the mean differences\n",
    "    mean_distance = np.mean(np.linalg.norm(pos1 - pos2, axis = 0)) # AU\n",
    "    mean_velocity = np.mean(np.abs(v1_mag - v2_mag))               # AU/yr\n",
    "\n",
    "    return mean_distance, mean_velocity"
   ]
  },
  {
   "cell_type": "code",
   "execution_count": 11,
   "metadata": {},
   "outputs": [],
   "source": [
    "# Compute it\n",
    "mean_distance, mean_velocity = mean_euclidean(S_class, S_relat)"
   ]
  },
  {
   "cell_type": "code",
   "execution_count": 14,
   "metadata": {},
   "outputs": [
    {
     "name": "stdout",
     "output_type": "stream",
     "text": [
      "Relativistic vs. classical:\n",
      "Mean distance difference: 1.28e+00 AU\n",
      "Mean velocity difference: 2.48e+03 AU/yr\n"
     ]
    }
   ],
   "source": [
    "# Print\n",
    "print(\"Relativistic vs. classical:\")\n",
    "print(f\"Mean distance difference: {mean_distance:.2e} AU\")\n",
    "print(f\"Mean velocity difference: {mean_velocity:.2e} AU/yr\")"
   ]
  },
  {
   "cell_type": "markdown",
   "metadata": {},
   "source": [
    "They differ by a large amount, which confirms the relativistic corrections are important for massive objects.\n",
    "\n",
    "---\n",
    "\n",
    "**Sun case**\n",
    "\n",
    "The only change we have to do is set the mass to $1\\,\\rm M_\\odot$ and the rest is the same."
   ]
  },
  {
   "cell_type": "code",
   "execution_count": 15,
   "metadata": {},
   "outputs": [],
   "source": [
    "# Sun\n",
    "M_sun = 1 # Solar masses\n",
    "\n",
    "# Create another instance\n",
    "integrator2 = CelestialSeer(M_sun, a, e)"
   ]
  },
  {
   "cell_type": "code",
   "execution_count": 16,
   "metadata": {},
   "outputs": [
    {
     "name": "stdout",
     "output_type": "stream",
     "text": [
      "Saved to outputfolder/M1.0e+00-a1.0-e0.000-class-RK3.h5.\n",
      "Saved to outputfolder/M1.0e+00-a1.0-e0.000-relat-RK3.h5.\n"
     ]
    }
   ],
   "source": [
    "# Classical case\n",
    "t_class2, S_class2, file_class_sun = integrator2.integrate(\n",
    "    relativistic = False, \n",
    "    N = N, \n",
    "    method = 'RK3', \n",
    "    save_hdf5 = True)\n",
    "\n",
    "# Relativistic case\n",
    "t_relat2, S_relat2, file_relat_sun = integrator2.integrate(\n",
    "    relativistic = True, \n",
    "    N = N, \n",
    "    method = 'RK3', \n",
    "    save_hdf5 = True)"
   ]
  },
  {
   "cell_type": "code",
   "execution_count": 17,
   "metadata": {},
   "outputs": [],
   "source": [
    "# Create another instance\n",
    "painter2 = ChronoPainter(\n",
    "    orbits = (file_class_sun, file_relat_sun),\n",
    "    labels = ('Classical', 'Relativistic'),\n",
    "    colors = ('khaki', 'magenta')\n",
    "    )"
   ]
  },
  {
   "cell_type": "code",
   "execution_count": 18,
   "metadata": {},
   "outputs": [],
   "source": [
    "# # Animate\n",
    "# painter2.paint(\n",
    "#     gif_name = \"rel-vs-class-sun.gif\",\n",
    "#     frames = 75,\n",
    "#     duration = 0.5,\n",
    "#     dpi = 100\n",
    "# )"
   ]
  },
  {
   "cell_type": "code",
   "execution_count": 19,
   "metadata": {},
   "outputs": [],
   "source": [
    "# Show it\n",
    "# painter2.show_evolution(\"rel-vs-class-sun.gif\")"
   ]
  },
  {
   "cell_type": "markdown",
   "metadata": {},
   "source": [
    "There does not seem to be a significant difference between the orbits when the mass is that of the Sun. The relativistic corrections seem to be negligible. To be sure, we'll use our quantitative analysis."
   ]
  },
  {
   "cell_type": "code",
   "execution_count": 20,
   "metadata": {},
   "outputs": [],
   "source": [
    "# Call the function\n",
    "mean_distance2, mean_velocity2 = mean_euclidean(S_class2, S_relat2)"
   ]
  },
  {
   "cell_type": "code",
   "execution_count": 21,
   "metadata": {},
   "outputs": [
    {
     "name": "stdout",
     "output_type": "stream",
     "text": [
      "Relativistic vs. classical (Sun):\n",
      "Mean distance difference: 3.75e-07 AU\n",
      "Mean velocity difference: 1.86e-07 AU/yr\n"
     ]
    }
   ],
   "source": [
    "# Print\n",
    "print(\"Relativistic vs. classical (Sun):\")\n",
    "print(f\"Mean distance difference: {mean_distance2:.2e} AU\")\n",
    "print(f\"Mean velocity difference: {mean_velocity2:.2e} AU/yr\")"
   ]
  },
  {
   "cell_type": "markdown",
   "metadata": {},
   "source": [
    "Since the mean differences are very small (around $56\\rm\\,km$ and $8.8\\rm \\, km/s$), we can effectively say that the relativistic corrections are negligible for the Sun."
   ]
  },
  {
   "cell_type": "markdown",
   "metadata": {},
   "source": [
    "### The role of eccentricity (3 points):"
   ]
  },
  {
   "cell_type": "markdown",
   "metadata": {},
   "source": [
    "##### (k) Use your module/script to run and show three relativistic simulations for objects with different eccentricities, $e$, and assuming the same $M$, $a$, $N$ as above. It may be helpful to compare the orbital history for all values of $e$ in a single plot throughout time.\n",
    "\n",
    "| Object           | Eccentricity ($e$) | Integration Method |\n",
    "|------------------|--------------------|--------------------|\n",
    "| Earth            | 0.01671            | Trapezoidal        |\n",
    "| Pluto            | 0.25               | Trapezoidal        |\n",
    "| 7092 Cadmus      | 0.70               | Trapezoidal        |"
   ]
  },
  {
   "cell_type": "code",
   "execution_count": 22,
   "metadata": {},
   "outputs": [],
   "source": [
    "# Define eccentricities\n",
    "e_earth  = 0.01671\n",
    "e_pluto  = 0.25\n",
    "e_cadmus = 0.70"
   ]
  },
  {
   "cell_type": "code",
   "execution_count": 23,
   "metadata": {},
   "outputs": [
    {
     "name": "stdout",
     "output_type": "stream",
     "text": [
      "Saved to outputfolder/M5.0e+06-a1.0-e0.017-relat-RK3.h5.\n",
      "Saved to outputfolder/M5.0e+06-a1.0-e0.250-relat-RK3.h5.\n",
      "Saved to outputfolder/M5.0e+06-a1.0-e0.700-relat-RK3.h5.\n"
     ]
    }
   ],
   "source": [
    "# Create instances\n",
    "earth_sys  = CelestialSeer(M, a, e_earth)\n",
    "pluto_sys  = CelestialSeer(M, a, e_pluto)\n",
    "cadmus_sys = CelestialSeer(M, a, e_cadmus)\n",
    "\n",
    "# Integrate all\n",
    "t_earth, S_earth, file_earth = earth_sys.integrate(\n",
    "    relativistic = True, \n",
    "    N = N, \n",
    "    method = 'RK3', \n",
    "    save_hdf5 = True)\n",
    "\n",
    "t_pluto, S_pluto, file_pluto = pluto_sys.integrate(\n",
    "    relativistic = True, \n",
    "    N = N, \n",
    "    method = 'RK3',\n",
    "    save_hdf5 = True)\n",
    "\n",
    "t_cadmus, S_cadmus, file_cadmus = cadmus_sys.integrate(\n",
    "    relativistic = True, \n",
    "    N = N, \n",
    "    method = 'RK3', \n",
    "    save_hdf5 = True)"
   ]
  },
  {
   "cell_type": "code",
   "execution_count": 27,
   "metadata": {},
   "outputs": [],
   "source": [
    "# Create instance\n",
    "painter3 = ChronoPainter(\n",
    "    orbits = (file_earth, file_pluto, file_cadmus),\n",
    "    labels = (r'Earth, $e = 0.0167$', r'Pluto, $e = 0.25$', r'Cadmus, $e = 0.70$'),\n",
    "    colors = ('khaki', 'magenta', 'white')\n",
    "    )"
   ]
  },
  {
   "cell_type": "code",
   "execution_count": 28,
   "metadata": {},
   "outputs": [
    {
     "name": "stdout",
     "output_type": "stream",
     "text": [
      "----------------------------------------------------------\n",
      "                  STARTING GIF CREATION\n",
      "----------------------------------------------------------\n",
      "Saving 75 frames...\n",
      "----------------------------------------------------------\n",
      "Progress: 0% (0 images)\n",
      "Progress: 9% (7 images)\n",
      "Progress: 19% (14 images)\n",
      "Progress: 28% (21 images)\n",
      "Progress: 37% (28 images)\n",
      "Progress: 47% (35 images)\n",
      "Progress: 56% (42 images)\n",
      "Progress: 65% (49 images)\n",
      "Progress: 75% (56 images)\n",
      "Progress: 84% (63 images)\n",
      "Progress: 93% (70 images)\n",
      "----------------------------------------------------------\n",
      "All 75 frames saved to outputfolder/frames.\n",
      "----------------------------------------------------------\n",
      "Assembling the GIF...\n",
      "----------------------------------------------------------\n",
      "GIF saved to outputfolder/diff_eccentricities.gif.\n",
      "----------------------------------------------------------\n",
      "All frames have been deleted.\n",
      "----------------------------------------------------------\n",
      "                   END OF GIF CREATION\n",
      "----------------------------------------------------------\n"
     ]
    }
   ],
   "source": [
    "# Animate\n",
    "painter3.paint(\n",
    "    gif_name = \"diff_eccentricities.gif\",\n",
    "    frames = 75,\n",
    "    duration = 0.5,\n",
    "    dpi = 100\n",
    ")"
   ]
  },
  {
   "cell_type": "code",
   "execution_count": 32,
   "metadata": {},
   "outputs": [],
   "source": [
    "# Show it\n",
    "#painter3.show_evolution(\"diff_eccentricities.gif\")"
   ]
  },
  {
   "cell_type": "markdown",
   "metadata": {},
   "source": [
    "##### (l) Describe the differences in the orbits of the above objects. What happens to objects with high eccentricities?"
   ]
  },
  {
   "cell_type": "markdown",
   "metadata": {},
   "source": [
    "The trajectories are quite different: Earth's orbit precesses, Pluto's remains strangely circular, and Cadmus' falls very rapidly towards the black hole. The distance of each object to the black hole is also different, with Cadmus being the closest.\n",
    "\n",
    "I can think of two reasons for such different behaviors:\n",
    "\n",
    "1. The initial conditions are calculated using the eccentricity, so they change per object. The position in $y$ and the velocity in $x$ are the ones that differ:\n",
    "\n",
    "$$y_0 = a\\,(1-e),$$\n",
    "\n",
    "$$v_{x0} = -\\sqrt{\\frac{G\\,M}{a}\\frac{1+e}{1-e}}.$$\n",
    "\n",
    "2. The relativistic corrections and $M = 5\\times 10^6\\,\\rm M_\\odot$ drastically change the expected (for me) elliptical shape of the orbits. Smaller masses and classical mechanics would have displayed the expected elliptical orbits.\n",
    "\n",
    "In this case, objects with high eccentricities are closer to the black hole and more susceptible to its effects."
   ]
  },
  {
   "cell_type": "markdown",
   "metadata": {},
   "source": [
    "### Numerical convergence (3 points):"
   ]
  },
  {
   "cell_type": "markdown",
   "metadata": {},
   "source": [
    "##### (m) Use your script to generate additional simulations with the same initial conditions as before, but only for $e=0.01671$ (Earth's eccentricity) with RK3, the Trapezoidal method and the higher-order SciPy integrator. Compare the orbital history for all methods in a single plot throughout time."
   ]
  },
  {
   "cell_type": "markdown",
   "metadata": {},
   "source": [
    "**Note:** We are going to use $N = 20$ because $N = 2$ didn't show any differences."
   ]
  },
  {
   "cell_type": "code",
   "execution_count": null,
   "metadata": {},
   "outputs": [
    {
     "name": "stdout",
     "output_type": "stream",
     "text": [
      "Saved to outputfolder/M5.0e+06-a1.0-e0.017-relat-TPZ.h5.\n",
      "Saved to outputfolder/M5.0e+06-a1.0-e0.017-relat-RK3.h5.\n",
      "Saved to outputfolder/M5.0e+06-a1.0-e0.017-relat-SPY.h5.\n"
     ]
    }
   ],
   "source": [
    "# Trapezoidal (we can reuse an instance defined before)\n",
    "t_earth_tpz, S_earth_tpz, file_tpz = earth_sys.integrate(\n",
    "    relativistic = True, \n",
    "    N = 20.0, \n",
    "    method = 'TPZ', \n",
    "    save_hdf5 = True)\n",
    "\n",
    "# Runge-Kutta 3\n",
    "t_earth_rk3, S_earth_rk3, file_rk3 = earth_sys.integrate(\n",
    "    relativistic = True, \n",
    "    N = 20.0, \n",
    "    method = 'RK3', \n",
    "    save_hdf5 = True)\n",
    "\n",
    "# Scipy\n",
    "t_earth_spy, S_earth_spy, file_spy = earth_sys.integrate(\n",
    "    relativistic = True, \n",
    "    N = 20.0, \n",
    "    method = 'SPY', \n",
    "    save_hdf5 = True)"
   ]
  },
  {
   "cell_type": "code",
   "execution_count": 54,
   "metadata": {},
   "outputs": [],
   "source": [
    "# Create instance\n",
    "painter4 = ChronoPainter(\n",
    "    orbits = (file_earth, file_tpz, file_spy),\n",
    "    labels = ('RK3', 'TPZ', 'SPY'),\n",
    "    colors = ('khaki', 'magenta', 'white')\n",
    "    )"
   ]
  },
  {
   "cell_type": "code",
   "execution_count": null,
   "metadata": {},
   "outputs": [
    {
     "name": "stdout",
     "output_type": "stream",
     "text": [
      "----------------------------------------------------------\n",
      "                  STARTING GIF CREATION\n",
      "----------------------------------------------------------\n",
      "Saving 125 frames...\n",
      "----------------------------------------------------------\n",
      "Progress: 0% (0 images)\n",
      "Progress: 10% (12 images)\n",
      "Progress: 19% (24 images)\n",
      "Progress: 29% (36 images)\n",
      "Progress: 38% (48 images)\n",
      "Progress: 48% (60 images)\n",
      "Progress: 58% (72 images)\n",
      "Progress: 67% (84 images)\n",
      "Progress: 77% (96 images)\n",
      "Progress: 86% (108 images)\n",
      "Progress: 96% (120 images)\n",
      "----------------------------------------------------------\n",
      "All 125 frames saved to outputfolder/frames.\n",
      "----------------------------------------------------------\n",
      "Assembling the GIF...\n",
      "----------------------------------------------------------\n",
      "GIF saved to outputfolder/diff_methods.gif.\n",
      "----------------------------------------------------------\n",
      "All frames have been deleted.\n",
      "----------------------------------------------------------\n",
      "                   END OF GIF CREATION\n",
      "----------------------------------------------------------\n"
     ]
    }
   ],
   "source": [
    "# Animate\n",
    "painter4.paint(\n",
    "    gif_name = \"diff_methods.gif\",\n",
    "    frames = 125,\n",
    "    duration = 2.0,\n",
    "    dpi = 100\n",
    ")"
   ]
  },
  {
   "cell_type": "code",
   "execution_count": 60,
   "metadata": {},
   "outputs": [],
   "source": [
    "# Show it\n",
    "# painter4.show_evolution(\"diff_methods.gif\")"
   ]
  },
  {
   "cell_type": "markdown",
   "metadata": {},
   "source": [
    "The methods return very similar results, but after some time they do start separating. This separation seems to increase over time. Nonetheless, the orbits follow similar paths and tendencies. "
   ]
  },
  {
   "cell_type": "markdown",
   "metadata": {},
   "source": [
    "##### (n) Measure convergence of the simulations with RK3 and Trapezoidal method for $e=0.01671$ by integrating at a number of different time steps. To analyse convergence, you need to define some measure for the error with respect to the higher order method, and then plot it against different time steps for both methods. Thus, you may add additional functions for this to your code in **orbits.py**. "
   ]
  },
  {
   "cell_type": "markdown",
   "metadata": {},
   "source": [
    "Our implementation takes the number of steps and uses it to internally define the step size. As such, the main method for measuring convergence has the number of steps to be used as an argument, which is equivalent to varying the step size. The error is then computed using the mean Euclidean distance between the solution with a higher order method."
   ]
  },
  {
   "cell_type": "code",
   "execution_count": 78,
   "metadata": {},
   "outputs": [],
   "source": [
    "# We can reuse the same instance as before\n",
    "step, error_rk3, powerlaw_rk3 = earth_sys.measure_convergence(\n",
    "    N = 2.0,\n",
    "    method = 'RK3',\n",
    "    relativistic = True,\n",
    "    num_steps = (500, 400, 300, 200, 100)\n",
    ")\n",
    "\n",
    "_, error_tpz, powerlaw_tpz = earth_sys.measure_convergence(\n",
    "    N = 2.0,\n",
    "    method = 'TPZ',\n",
    "    relativistic = True,\n",
    "    num_steps = (500, 400, 300, 200, 100)\n",
    ")"
   ]
  },
  {
   "cell_type": "code",
   "execution_count": 79,
   "metadata": {},
   "outputs": [
    {
     "data": {
      "image/png": "[encoded data removed]",
      "text/plain": [
       "<Figure size 600x600 with 1 Axes>"
      ]
     },
     "metadata": {},
     "output_type": "display_data"
    }
   ],
   "source": [
    "# Plot\n",
    "plt.figure(figsize=(6, 6))\n",
    "\n",
    "plt.plot(step, error_rk3, label = f\"Runge-Kutta 3: {powerlaw_rk3:.2f}\",\n",
    "         ls = \"-\", c = \"k\", marker = \"o\", markersize = 5, lw = 0.9)\n",
    "plt.plot(step, error_tpz, label = f\"Trapezoidal:      {powerlaw_tpz:.2f}\",\n",
    "         ls = \"--\", c = \"k\", marker = \"s\", markersize = 5, lw = 0.9)\n",
    "\n",
    "plt.loglog()\n",
    "\n",
    "plt.xlabel(\"Step size\")\n",
    "plt.ylabel(\"Euclidean error\")\n",
    "plt.title(\"Order-error estimation\", fontsize = 14)\n",
    "\n",
    "plt.legend(frameon = True, shadow = True, fontsize = 10, loc = (0.5,0.07))\n",
    "plt.show()"
   ]
  },
  {
   "cell_type": "markdown",
   "metadata": {},
   "source": [
    "The results are in accordance with the expected orders of error. This confirms our methods are well-implemented.\n",
    "\n",
    "---\n",
    "That's it, thank you for designing this fun exam, prof. Wladimir :)\n",
    "\n",
    "---"
   ]
  }
 ],
 "metadata": {
  "kernelspec": {
   "display_name": "Python 3",
   "language": "python",
   "name": "python3"
  },
  "language_info": {
   "codemirror_mode": {
    "name": "ipython",
    "version": 3
   },
   "file_extension": ".py",
   "mimetype": "text/x-python",
   "name": "python",
   "nbconvert_exporter": "python",
   "pygments_lexer": "ipython3",
   "version": "3.9.21"
  }
 },
 "nbformat": 4,
 "nbformat_minor": 2
}
